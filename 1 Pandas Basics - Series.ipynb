{
 "cells": [
  {
   "cell_type": "markdown",
   "id": "780722d2",
   "metadata": {},
   "source": [
    "# Pandas"
   ]
  },
  {
   "cell_type": "markdown",
   "id": "5fa694ef",
   "metadata": {},
   "source": [
    "### Pandas --> Python for data analysis\n",
    "\n",
    "\n",
    "Pandas helps in :\n",
    "\n",
    "1. Data Wrangling, manipulation & analysis\n",
    "2. Data Transformation\n",
    "\n",
    "Pandas always print index by default for both 1D and 2D data structures\n"
   ]
  },
  {
   "cell_type": "markdown",
   "id": "48ba062f",
   "metadata": {},
   "source": [
    "### Pandas consist of bulitin data structures:\n",
    "\n",
    "1. Series\n",
    "2. DataFrame"
   ]
  },
  {
   "cell_type": "markdown",
   "id": "ed7e3799",
   "metadata": {},
   "source": [
    "### A. Series\n",
    "\n",
    "\n",
    "1. 1D Data Structure\n",
    "<br>\n",
    "\n",
    "2. Series only present in row (same as row vector), so don't have column header\n",
    "       r1  1\n",
    "       r2  2\n",
    "       r3  3\n",
    "       r4  4\n",
    "       r5  5\n",
    "         \n",
    "3. Hetrogeneous in Nature\n"
   ]
  },
  {
   "cell_type": "markdown",
   "id": "670954ad",
   "metadata": {},
   "source": [
    "### B. DataFrames\n",
    "\n",
    "1. 2D Data Structure\n",
    "<br>\n",
    "\n",
    "2. Always present rows and column form\n",
    "<br>\n",
    "\n",
    "3. Most/most used dataframe"
   ]
  },
  {
   "cell_type": "code",
   "execution_count": null,
   "id": "dce9302b",
   "metadata": {},
   "outputs": [],
   "source": []
  },
  {
   "cell_type": "code",
   "execution_count": 1,
   "id": "e2d55063",
   "metadata": {
    "scrolled": true
   },
   "outputs": [
    {
     "ename": "ModuleNotFoundError",
     "evalue": "No module named 'names'",
     "output_type": "error",
     "traceback": [
      "\u001b[1;31m---------------------------------------------------------------------------\u001b[0m",
      "\u001b[1;31mModuleNotFoundError\u001b[0m                       Traceback (most recent call last)",
      "\u001b[1;32m~\\AppData\\Local\\Temp/ipykernel_11584/3678054260.py\u001b[0m in \u001b[0;36m<module>\u001b[1;34m\u001b[0m\n\u001b[0;32m      5\u001b[0m \u001b[1;32mimport\u001b[0m \u001b[0mrandom\u001b[0m           \u001b[1;31m# ( used to create/genrate random values)\u001b[0m\u001b[1;33m\u001b[0m\u001b[1;33m\u001b[0m\u001b[0m\n\u001b[0;32m      6\u001b[0m \u001b[1;33m\u001b[0m\u001b[0m\n\u001b[1;32m----> 7\u001b[1;33m \u001b[1;32mimport\u001b[0m \u001b[0mnames\u001b[0m            \u001b[1;31m# ( used to create/genrate random names values)\u001b[0m\u001b[1;33m\u001b[0m\u001b[1;33m\u001b[0m\u001b[0m\n\u001b[0m",
      "\u001b[1;31mModuleNotFoundError\u001b[0m: No module named 'names'"
     ]
    }
   ],
   "source": [
    "import pandas as pd\n",
    "\n",
    "import numpy as np\n",
    "\n",
    "import random           # ( used to create/genrate random values)\n",
    "\n",
    "import names            # ( used to create/genrate random names values)"
   ]
  },
  {
   "cell_type": "code",
   "execution_count": 9,
   "id": "278374c0",
   "metadata": {},
   "outputs": [
    {
     "name": "stdout",
     "output_type": "stream",
     "text": [
      "Collecting names\n",
      "  Downloading names-0.3.0.tar.gz (789 kB)\n",
      "Building wheels for collected packages: names\n",
      "  Building wheel for names (setup.py): started\n",
      "  Building wheel for names (setup.py): finished with status 'done'\n",
      "  Created wheel for names: filename=names-0.3.0-py3-none-any.whl size=803698 sha256=1c38ed899d05165aa5ca1279413c2ea4dd89a88dbf6435faba2a6907aed7ae27\n",
      "  Stored in directory: c:\\users\\vikas\\appdata\\local\\pip\\cache\\wheels\\f1\\bc\\04\\55ab9499ea02359ece8b02b4169ebb30aa52d82b84c13fc506\n",
      "Successfully built names\n",
      "Installing collected packages: names\n",
      "Successfully installed names-0.3.0\n"
     ]
    }
   ],
   "source": [
    "# names package is not install by default\n",
    "\n",
    "\n",
    "!pip install names"
   ]
  },
  {
   "cell_type": "code",
   "execution_count": 10,
   "id": "8a6b218e",
   "metadata": {},
   "outputs": [],
   "source": [
    "import names"
   ]
  },
  {
   "cell_type": "code",
   "execution_count": null,
   "id": "f8f89469",
   "metadata": {},
   "outputs": [],
   "source": []
  },
  {
   "cell_type": "markdown",
   "id": "6489bb00",
   "metadata": {},
   "source": [
    "# Series"
   ]
  },
  {
   "cell_type": "code",
   "execution_count": 11,
   "id": "9a6e4680",
   "metadata": {},
   "outputs": [
    {
     "data": {
      "text/plain": [
       "0         1\n",
       "1         2\n",
       "2    Python\n",
       "3      12.5\n",
       "4      True\n",
       "dtype: object"
      ]
     },
     "execution_count": 11,
     "metadata": {},
     "output_type": "execute_result"
    }
   ],
   "source": [
    "s = pd.Series([1,2,'Python',12.5,True])\n",
    "s"
   ]
  },
  {
   "cell_type": "code",
   "execution_count": 14,
   "id": "b81c6eb5",
   "metadata": {},
   "outputs": [
    {
     "data": {
      "text/plain": [
       "'Python'"
      ]
     },
     "execution_count": 14,
     "metadata": {},
     "output_type": "execute_result"
    }
   ],
   "source": [
    "s[2]"
   ]
  },
  {
   "cell_type": "code",
   "execution_count": 15,
   "id": "c5e154ab",
   "metadata": {},
   "outputs": [
    {
     "data": {
      "text/plain": [
       "True"
      ]
     },
     "execution_count": 15,
     "metadata": {},
     "output_type": "execute_result"
    }
   ],
   "source": [
    "s[4]"
   ]
  },
  {
   "cell_type": "code",
   "execution_count": null,
   "id": "6620be93",
   "metadata": {},
   "outputs": [],
   "source": []
  },
  {
   "cell_type": "code",
   "execution_count": 18,
   "id": "051dda76",
   "metadata": {},
   "outputs": [
    {
     "data": {
      "text/plain": [
       "[10, 11, 12, 13, 14]"
      ]
     },
     "execution_count": 18,
     "metadata": {},
     "output_type": "execute_result"
    }
   ],
   "source": [
    "# I want to change the default indexing by some specific indexing\n",
    "\n",
    "\n",
    "l = list(range(10,15))\n",
    "l"
   ]
  },
  {
   "cell_type": "code",
   "execution_count": 19,
   "id": "bdf26afd",
   "metadata": {},
   "outputs": [
    {
     "data": {
      "text/plain": [
       "10         1\n",
       "11         2\n",
       "12    Python\n",
       "13      12.5\n",
       "14      True\n",
       "dtype: object"
      ]
     },
     "execution_count": 19,
     "metadata": {},
     "output_type": "execute_result"
    }
   ],
   "source": [
    "s.index = l\n",
    "s"
   ]
  },
  {
   "cell_type": "code",
   "execution_count": 25,
   "id": "8e51b502",
   "metadata": {},
   "outputs": [
    {
     "data": {
      "text/plain": [
       "A         1\n",
       "B         2\n",
       "C         3\n",
       "D    Python\n",
       "E      12.5\n",
       "F      True\n",
       "dtype: object"
      ]
     },
     "execution_count": 25,
     "metadata": {},
     "output_type": "execute_result"
    }
   ],
   "source": [
    "#  Or we can defined the indexing while creating\n",
    "\n",
    "\n",
    "s = pd.Series([1,2,3,'Python',12.5,True], index = list('ABCDEF'))\n",
    "\n",
    "s"
   ]
  },
  {
   "cell_type": "code",
   "execution_count": null,
   "id": "9ff6a7fb",
   "metadata": {},
   "outputs": [],
   "source": []
  },
  {
   "cell_type": "code",
   "execution_count": 26,
   "id": "41fab0bb",
   "metadata": {},
   "outputs": [
    {
     "data": {
      "text/plain": [
       "A         1\n",
       "B         2\n",
       "C      Gitu\n",
       "D    Python\n",
       "E      12.5\n",
       "F      True\n",
       "dtype: object"
      ]
     },
     "execution_count": 26,
     "metadata": {},
     "output_type": "execute_result"
    }
   ],
   "source": [
    "# If I want to change the vales\n",
    "\n",
    "\n",
    "\n",
    "s[2] = \"Gitu\"\n",
    "\n",
    "s"
   ]
  },
  {
   "cell_type": "code",
   "execution_count": null,
   "id": "d3375e88",
   "metadata": {},
   "outputs": [],
   "source": []
  },
  {
   "cell_type": "code",
   "execution_count": null,
   "id": "ed985321",
   "metadata": {},
   "outputs": [],
   "source": []
  },
  {
   "cell_type": "code",
   "execution_count": null,
   "id": "423bfacf",
   "metadata": {},
   "outputs": [],
   "source": []
  }
 ],
 "metadata": {
  "kernelspec": {
   "display_name": "Python 3 (ipykernel)",
   "language": "python",
   "name": "python3"
  },
  "language_info": {
   "codemirror_mode": {
    "name": "ipython",
    "version": 3
   },
   "file_extension": ".py",
   "mimetype": "text/x-python",
   "name": "python",
   "nbconvert_exporter": "python",
   "pygments_lexer": "ipython3",
   "version": "3.9.7"
  }
 },
 "nbformat": 4,
 "nbformat_minor": 5
}
