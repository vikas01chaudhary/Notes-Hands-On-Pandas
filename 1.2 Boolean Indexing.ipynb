{
 "cells": [
  {
   "cell_type": "code",
   "execution_count": 1,
   "id": "f3486ef2",
   "metadata": {},
   "outputs": [],
   "source": [
    "import pandas as pd\n",
    "import numpy as np\n",
    "import names"
   ]
  },
  {
   "cell_type": "code",
   "execution_count": null,
   "id": "28483c14",
   "metadata": {},
   "outputs": [],
   "source": []
  },
  {
   "cell_type": "code",
   "execution_count": 2,
   "id": "e70b459a",
   "metadata": {},
   "outputs": [
    {
     "data": {
      "text/plain": [
       "['Dorothy',\n",
       " 'Deborah',\n",
       " 'Susan',\n",
       " 'Keith',\n",
       " 'Inez',\n",
       " 'Donna',\n",
       " 'Virginia',\n",
       " 'Joseph',\n",
       " 'Shirley',\n",
       " 'Joyce']"
      ]
     },
     "execution_count": 2,
     "metadata": {},
     "output_type": "execute_result"
    }
   ],
   "source": [
    "names = [names.get_first_name() for i in range(10)]\n",
    "\n",
    "names"
   ]
  },
  {
   "cell_type": "code",
   "execution_count": 3,
   "id": "a77f8cd8",
   "metadata": {},
   "outputs": [],
   "source": [
    "Eng = [np.random.randint(30,100) for i in range(10)]"
   ]
  },
  {
   "cell_type": "code",
   "execution_count": 4,
   "id": "5e53d493",
   "metadata": {},
   "outputs": [],
   "source": [
    "Maths = [np.random.randint(30,100) for i in range(10)]"
   ]
  },
  {
   "cell_type": "code",
   "execution_count": 5,
   "id": "cb33e53a",
   "metadata": {},
   "outputs": [],
   "source": [
    "Physics = [np.random.randint(30,100) for i in range (10)]"
   ]
  },
  {
   "cell_type": "code",
   "execution_count": 6,
   "id": "6d237de8",
   "metadata": {},
   "outputs": [],
   "source": [
    "df = pd.DataFrame({\"Eng\":Eng, \"Maths\": Maths, \"Physics\": Physics}, index = names)\n",
    "\n"
   ]
  },
  {
   "cell_type": "code",
   "execution_count": 7,
   "id": "77b4c66b",
   "metadata": {},
   "outputs": [],
   "source": [
    "df[\"Total\"] = df[\"Eng\"] + df[\"Maths\"] + df[\"Physics\"]\n",
    "\n",
    "df[\"Average\"] = round(df[\"Total\"]/3,2)"
   ]
  },
  {
   "cell_type": "code",
   "execution_count": 8,
   "id": "d44368cc",
   "metadata": {},
   "outputs": [
    {
     "data": {
      "text/html": [
       "<div>\n",
       "<style scoped>\n",
       "    .dataframe tbody tr th:only-of-type {\n",
       "        vertical-align: middle;\n",
       "    }\n",
       "\n",
       "    .dataframe tbody tr th {\n",
       "        vertical-align: top;\n",
       "    }\n",
       "\n",
       "    .dataframe thead th {\n",
       "        text-align: right;\n",
       "    }\n",
       "</style>\n",
       "<table border=\"1\" class=\"dataframe\">\n",
       "  <thead>\n",
       "    <tr style=\"text-align: right;\">\n",
       "      <th></th>\n",
       "      <th>Eng</th>\n",
       "      <th>Maths</th>\n",
       "      <th>Physics</th>\n",
       "      <th>Total</th>\n",
       "      <th>Average</th>\n",
       "    </tr>\n",
       "  </thead>\n",
       "  <tbody>\n",
       "    <tr>\n",
       "      <th>Dorothy</th>\n",
       "      <td>55</td>\n",
       "      <td>78</td>\n",
       "      <td>31</td>\n",
       "      <td>164</td>\n",
       "      <td>54.67</td>\n",
       "    </tr>\n",
       "    <tr>\n",
       "      <th>Deborah</th>\n",
       "      <td>94</td>\n",
       "      <td>51</td>\n",
       "      <td>47</td>\n",
       "      <td>192</td>\n",
       "      <td>64.00</td>\n",
       "    </tr>\n",
       "    <tr>\n",
       "      <th>Susan</th>\n",
       "      <td>65</td>\n",
       "      <td>65</td>\n",
       "      <td>98</td>\n",
       "      <td>228</td>\n",
       "      <td>76.00</td>\n",
       "    </tr>\n",
       "    <tr>\n",
       "      <th>Keith</th>\n",
       "      <td>51</td>\n",
       "      <td>68</td>\n",
       "      <td>93</td>\n",
       "      <td>212</td>\n",
       "      <td>70.67</td>\n",
       "    </tr>\n",
       "    <tr>\n",
       "      <th>Inez</th>\n",
       "      <td>37</td>\n",
       "      <td>98</td>\n",
       "      <td>68</td>\n",
       "      <td>203</td>\n",
       "      <td>67.67</td>\n",
       "    </tr>\n",
       "    <tr>\n",
       "      <th>Donna</th>\n",
       "      <td>72</td>\n",
       "      <td>92</td>\n",
       "      <td>57</td>\n",
       "      <td>221</td>\n",
       "      <td>73.67</td>\n",
       "    </tr>\n",
       "    <tr>\n",
       "      <th>Virginia</th>\n",
       "      <td>45</td>\n",
       "      <td>43</td>\n",
       "      <td>40</td>\n",
       "      <td>128</td>\n",
       "      <td>42.67</td>\n",
       "    </tr>\n",
       "    <tr>\n",
       "      <th>Joseph</th>\n",
       "      <td>51</td>\n",
       "      <td>52</td>\n",
       "      <td>53</td>\n",
       "      <td>156</td>\n",
       "      <td>52.00</td>\n",
       "    </tr>\n",
       "    <tr>\n",
       "      <th>Shirley</th>\n",
       "      <td>68</td>\n",
       "      <td>45</td>\n",
       "      <td>31</td>\n",
       "      <td>144</td>\n",
       "      <td>48.00</td>\n",
       "    </tr>\n",
       "    <tr>\n",
       "      <th>Joyce</th>\n",
       "      <td>65</td>\n",
       "      <td>40</td>\n",
       "      <td>32</td>\n",
       "      <td>137</td>\n",
       "      <td>45.67</td>\n",
       "    </tr>\n",
       "  </tbody>\n",
       "</table>\n",
       "</div>"
      ],
      "text/plain": [
       "          Eng  Maths  Physics  Total  Average\n",
       "Dorothy    55     78       31    164    54.67\n",
       "Deborah    94     51       47    192    64.00\n",
       "Susan      65     65       98    228    76.00\n",
       "Keith      51     68       93    212    70.67\n",
       "Inez       37     98       68    203    67.67\n",
       "Donna      72     92       57    221    73.67\n",
       "Virginia   45     43       40    128    42.67\n",
       "Joseph     51     52       53    156    52.00\n",
       "Shirley    68     45       31    144    48.00\n",
       "Joyce      65     40       32    137    45.67"
      ]
     },
     "execution_count": 8,
     "metadata": {},
     "output_type": "execute_result"
    }
   ],
   "source": [
    "df"
   ]
  },
  {
   "cell_type": "code",
   "execution_count": null,
   "id": "b14b52cf",
   "metadata": {},
   "outputs": [],
   "source": []
  },
  {
   "cell_type": "code",
   "execution_count": null,
   "id": "bcd2a74a",
   "metadata": {},
   "outputs": [],
   "source": []
  },
  {
   "cell_type": "markdown",
   "id": "83e878f1",
   "metadata": {},
   "source": [
    "# Boolean Indexing"
   ]
  },
  {
   "cell_type": "code",
   "execution_count": 9,
   "id": "7645a64b",
   "metadata": {},
   "outputs": [
    {
     "data": {
      "text/plain": [
       "Dorothy      True\n",
       "Deborah      True\n",
       "Susan       False\n",
       "Keith       False\n",
       "Inez        False\n",
       "Donna       False\n",
       "Virginia     True\n",
       "Joseph       True\n",
       "Shirley      True\n",
       "Joyce        True\n",
       "Name: Total, dtype: bool"
      ]
     },
     "execution_count": 9,
     "metadata": {},
     "output_type": "execute_result"
    }
   ],
   "source": [
    "# I want total marks of students < 200\n",
    "\n",
    "df[\"Total\"] < 200"
   ]
  },
  {
   "cell_type": "code",
   "execution_count": null,
   "id": "f8c2f75e",
   "metadata": {},
   "outputs": [],
   "source": []
  },
  {
   "cell_type": "code",
   "execution_count": 10,
   "id": "b19de7c2",
   "metadata": {},
   "outputs": [
    {
     "data": {
      "text/html": [
       "<div>\n",
       "<style scoped>\n",
       "    .dataframe tbody tr th:only-of-type {\n",
       "        vertical-align: middle;\n",
       "    }\n",
       "\n",
       "    .dataframe tbody tr th {\n",
       "        vertical-align: top;\n",
       "    }\n",
       "\n",
       "    .dataframe thead th {\n",
       "        text-align: right;\n",
       "    }\n",
       "</style>\n",
       "<table border=\"1\" class=\"dataframe\">\n",
       "  <thead>\n",
       "    <tr style=\"text-align: right;\">\n",
       "      <th></th>\n",
       "      <th>Eng</th>\n",
       "      <th>Maths</th>\n",
       "      <th>Physics</th>\n",
       "      <th>Total</th>\n",
       "      <th>Average</th>\n",
       "    </tr>\n",
       "  </thead>\n",
       "  <tbody>\n",
       "    <tr>\n",
       "      <th>Dorothy</th>\n",
       "      <td>55</td>\n",
       "      <td>78</td>\n",
       "      <td>31</td>\n",
       "      <td>164</td>\n",
       "      <td>54.67</td>\n",
       "    </tr>\n",
       "    <tr>\n",
       "      <th>Deborah</th>\n",
       "      <td>94</td>\n",
       "      <td>51</td>\n",
       "      <td>47</td>\n",
       "      <td>192</td>\n",
       "      <td>64.00</td>\n",
       "    </tr>\n",
       "    <tr>\n",
       "      <th>Virginia</th>\n",
       "      <td>45</td>\n",
       "      <td>43</td>\n",
       "      <td>40</td>\n",
       "      <td>128</td>\n",
       "      <td>42.67</td>\n",
       "    </tr>\n",
       "    <tr>\n",
       "      <th>Joseph</th>\n",
       "      <td>51</td>\n",
       "      <td>52</td>\n",
       "      <td>53</td>\n",
       "      <td>156</td>\n",
       "      <td>52.00</td>\n",
       "    </tr>\n",
       "    <tr>\n",
       "      <th>Shirley</th>\n",
       "      <td>68</td>\n",
       "      <td>45</td>\n",
       "      <td>31</td>\n",
       "      <td>144</td>\n",
       "      <td>48.00</td>\n",
       "    </tr>\n",
       "    <tr>\n",
       "      <th>Joyce</th>\n",
       "      <td>65</td>\n",
       "      <td>40</td>\n",
       "      <td>32</td>\n",
       "      <td>137</td>\n",
       "      <td>45.67</td>\n",
       "    </tr>\n",
       "  </tbody>\n",
       "</table>\n",
       "</div>"
      ],
      "text/plain": [
       "          Eng  Maths  Physics  Total  Average\n",
       "Dorothy    55     78       31    164    54.67\n",
       "Deborah    94     51       47    192    64.00\n",
       "Virginia   45     43       40    128    42.67\n",
       "Joseph     51     52       53    156    52.00\n",
       "Shirley    68     45       31    144    48.00\n",
       "Joyce      65     40       32    137    45.67"
      ]
     },
     "execution_count": 10,
     "metadata": {},
     "output_type": "execute_result"
    }
   ],
   "source": [
    "# Now, I want all details of students instead of boolean values\n",
    "\n",
    "df[ df[\"Total\"]<200 ]"
   ]
  },
  {
   "cell_type": "code",
   "execution_count": null,
   "id": "84d264ac",
   "metadata": {},
   "outputs": [],
   "source": []
  },
  {
   "cell_type": "code",
   "execution_count": 11,
   "id": "65a75aee",
   "metadata": {},
   "outputs": [
    {
     "data": {
      "text/plain": [
       "Dorothy     164\n",
       "Deborah     192\n",
       "Virginia    128\n",
       "Joseph      156\n",
       "Shirley     144\n",
       "Joyce       137\n",
       "Name: Total, dtype: int64"
      ]
     },
     "execution_count": 11,
     "metadata": {},
     "output_type": "execute_result"
    }
   ],
   "source": [
    "# Now, I want only total column marks instead of boolean values\n",
    "\n",
    "df[ df[\"Total\"]<200 ]  [\"Total\"]"
   ]
  },
  {
   "cell_type": "code",
   "execution_count": null,
   "id": "cdaf58ec",
   "metadata": {},
   "outputs": [],
   "source": []
  },
  {
   "cell_type": "code",
   "execution_count": 12,
   "id": "a485d203",
   "metadata": {},
   "outputs": [
    {
     "data": {
      "text/html": [
       "<div>\n",
       "<style scoped>\n",
       "    .dataframe tbody tr th:only-of-type {\n",
       "        vertical-align: middle;\n",
       "    }\n",
       "\n",
       "    .dataframe tbody tr th {\n",
       "        vertical-align: top;\n",
       "    }\n",
       "\n",
       "    .dataframe thead th {\n",
       "        text-align: right;\n",
       "    }\n",
       "</style>\n",
       "<table border=\"1\" class=\"dataframe\">\n",
       "  <thead>\n",
       "    <tr style=\"text-align: right;\">\n",
       "      <th></th>\n",
       "      <th>Total</th>\n",
       "      <th>Average</th>\n",
       "    </tr>\n",
       "  </thead>\n",
       "  <tbody>\n",
       "    <tr>\n",
       "      <th>Dorothy</th>\n",
       "      <td>164</td>\n",
       "      <td>54.67</td>\n",
       "    </tr>\n",
       "    <tr>\n",
       "      <th>Deborah</th>\n",
       "      <td>192</td>\n",
       "      <td>64.00</td>\n",
       "    </tr>\n",
       "    <tr>\n",
       "      <th>Virginia</th>\n",
       "      <td>128</td>\n",
       "      <td>42.67</td>\n",
       "    </tr>\n",
       "    <tr>\n",
       "      <th>Joseph</th>\n",
       "      <td>156</td>\n",
       "      <td>52.00</td>\n",
       "    </tr>\n",
       "    <tr>\n",
       "      <th>Shirley</th>\n",
       "      <td>144</td>\n",
       "      <td>48.00</td>\n",
       "    </tr>\n",
       "    <tr>\n",
       "      <th>Joyce</th>\n",
       "      <td>137</td>\n",
       "      <td>45.67</td>\n",
       "    </tr>\n",
       "  </tbody>\n",
       "</table>\n",
       "</div>"
      ],
      "text/plain": [
       "          Total  Average\n",
       "Dorothy     164    54.67\n",
       "Deborah     192    64.00\n",
       "Virginia    128    42.67\n",
       "Joseph      156    52.00\n",
       "Shirley     144    48.00\n",
       "Joyce       137    45.67"
      ]
     },
     "execution_count": 12,
     "metadata": {},
     "output_type": "execute_result"
    }
   ],
   "source": [
    "# Now, I want only total & Average column instead of boolean values\n",
    "\n",
    "df[ df[\"Total\"]<200 ]  [ [\"Total\",\"Average\"] ]"
   ]
  },
  {
   "cell_type": "code",
   "execution_count": null,
   "id": "2155f4af",
   "metadata": {},
   "outputs": [],
   "source": []
  },
  {
   "cell_type": "code",
   "execution_count": null,
   "id": "5a2b59cc",
   "metadata": {},
   "outputs": [],
   "source": []
  },
  {
   "cell_type": "code",
   "execution_count": null,
   "id": "ec82692a",
   "metadata": {},
   "outputs": [],
   "source": []
  },
  {
   "cell_type": "code",
   "execution_count": null,
   "id": "c7303e24",
   "metadata": {},
   "outputs": [],
   "source": []
  },
  {
   "cell_type": "code",
   "execution_count": null,
   "id": "2612895e",
   "metadata": {},
   "outputs": [],
   "source": []
  }
 ],
 "metadata": {
  "kernelspec": {
   "display_name": "Python 3 (ipykernel)",
   "language": "python",
   "name": "python3"
  },
  "language_info": {
   "codemirror_mode": {
    "name": "ipython",
    "version": 3
   },
   "file_extension": ".py",
   "mimetype": "text/x-python",
   "name": "python",
   "nbconvert_exporter": "python",
   "pygments_lexer": "ipython3",
   "version": "3.9.7"
  }
 },
 "nbformat": 4,
 "nbformat_minor": 5
}
